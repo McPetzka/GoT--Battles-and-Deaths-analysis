{
  "nbformat": 4,
  "nbformat_minor": 0,
  "metadata": {
    "colab": {
      "name": "Untitled33.ipynb",
      "provenance": [],
      "authorship_tag": "ABX9TyOJdHvGSruZVqhlP0rX9xb3",
      "include_colab_link": true
    },
    "kernelspec": {
      "name": "python3",
      "display_name": "Python 3"
    }
  },
  "cells": [
    {
      "cell_type": "markdown",
      "metadata": {
        "id": "view-in-github",
        "colab_type": "text"
      },
      "source": [
        "<a href=\"https://colab.research.google.com/github/McPetzka/GoT--Battles-and-Deaths-analysis/blob/main/Untitled33.ipynb\" target=\"_parent\"><img src=\"https://colab.research.google.com/assets/colab-badge.svg\" alt=\"Open In Colab\"/></a>"
      ]
    },
    {
      "cell_type": "code",
      "metadata": {
        "id": "oojdSK52dWC6"
      },
      "source": [
        "import pandas as pd\n",
        "import numpy as np\n",
        "import matplotlib.pyplot as plt\n",
        "import seaborn as sns"
      ],
      "execution_count": 1,
      "outputs": []
    },
    {
      "cell_type": "code",
      "metadata": {
        "id": "bgtniXWRdf5n"
      },
      "source": [
        "battles= pd.read_csv('battles.csv')\n",
        "deaths =pd.read_csv('character-deaths.csv')"
      ],
      "execution_count": 9,
      "outputs": []
    },
    {
      "cell_type": "code",
      "metadata": {
        "id": "UJowL1EVdj3I",
        "outputId": "50f33a28-3c20-4e46-a625-e4114546c4f4",
        "colab": {
          "base_uri": "https://localhost:8080/",
          "height": 400
        }
      },
      "source": [
        "battles.head()"
      ],
      "execution_count": 10,
      "outputs": [
        {
          "output_type": "execute_result",
          "data": {
            "text/html": [
              "<div>\n",
              "<style scoped>\n",
              "    .dataframe tbody tr th:only-of-type {\n",
              "        vertical-align: middle;\n",
              "    }\n",
              "\n",
              "    .dataframe tbody tr th {\n",
              "        vertical-align: top;\n",
              "    }\n",
              "\n",
              "    .dataframe thead th {\n",
              "        text-align: right;\n",
              "    }\n",
              "</style>\n",
              "<table border=\"1\" class=\"dataframe\">\n",
              "  <thead>\n",
              "    <tr style=\"text-align: right;\">\n",
              "      <th></th>\n",
              "      <th>name</th>\n",
              "      <th>year</th>\n",
              "      <th>battle_number</th>\n",
              "      <th>attacker_king</th>\n",
              "      <th>defender_king</th>\n",
              "      <th>attacker_1</th>\n",
              "      <th>attacker_2</th>\n",
              "      <th>attacker_3</th>\n",
              "      <th>attacker_4</th>\n",
              "      <th>defender_1</th>\n",
              "      <th>defender_2</th>\n",
              "      <th>defender_3</th>\n",
              "      <th>defender_4</th>\n",
              "      <th>attacker_outcome</th>\n",
              "      <th>battle_type</th>\n",
              "      <th>major_death</th>\n",
              "      <th>major_capture</th>\n",
              "      <th>attacker_size</th>\n",
              "      <th>defender_size</th>\n",
              "      <th>attacker_commander</th>\n",
              "      <th>defender_commander</th>\n",
              "      <th>summer</th>\n",
              "      <th>location</th>\n",
              "      <th>region</th>\n",
              "      <th>note</th>\n",
              "    </tr>\n",
              "  </thead>\n",
              "  <tbody>\n",
              "    <tr>\n",
              "      <th>0</th>\n",
              "      <td>Battle of the Golden Tooth</td>\n",
              "      <td>298</td>\n",
              "      <td>1</td>\n",
              "      <td>Joffrey/Tommen Baratheon</td>\n",
              "      <td>Robb Stark</td>\n",
              "      <td>Lannister</td>\n",
              "      <td>NaN</td>\n",
              "      <td>NaN</td>\n",
              "      <td>NaN</td>\n",
              "      <td>Tully</td>\n",
              "      <td>NaN</td>\n",
              "      <td>NaN</td>\n",
              "      <td>NaN</td>\n",
              "      <td>win</td>\n",
              "      <td>pitched battle</td>\n",
              "      <td>1.0</td>\n",
              "      <td>0.0</td>\n",
              "      <td>15000.0</td>\n",
              "      <td>4000.0</td>\n",
              "      <td>Jaime Lannister</td>\n",
              "      <td>Clement Piper, Vance</td>\n",
              "      <td>1.0</td>\n",
              "      <td>Golden Tooth</td>\n",
              "      <td>The Westerlands</td>\n",
              "      <td>NaN</td>\n",
              "    </tr>\n",
              "    <tr>\n",
              "      <th>1</th>\n",
              "      <td>Battle at the Mummer's Ford</td>\n",
              "      <td>298</td>\n",
              "      <td>2</td>\n",
              "      <td>Joffrey/Tommen Baratheon</td>\n",
              "      <td>Robb Stark</td>\n",
              "      <td>Lannister</td>\n",
              "      <td>NaN</td>\n",
              "      <td>NaN</td>\n",
              "      <td>NaN</td>\n",
              "      <td>Baratheon</td>\n",
              "      <td>NaN</td>\n",
              "      <td>NaN</td>\n",
              "      <td>NaN</td>\n",
              "      <td>win</td>\n",
              "      <td>ambush</td>\n",
              "      <td>1.0</td>\n",
              "      <td>0.0</td>\n",
              "      <td>NaN</td>\n",
              "      <td>120.0</td>\n",
              "      <td>Gregor Clegane</td>\n",
              "      <td>Beric Dondarrion</td>\n",
              "      <td>1.0</td>\n",
              "      <td>Mummer's Ford</td>\n",
              "      <td>The Riverlands</td>\n",
              "      <td>NaN</td>\n",
              "    </tr>\n",
              "    <tr>\n",
              "      <th>2</th>\n",
              "      <td>Battle of Riverrun</td>\n",
              "      <td>298</td>\n",
              "      <td>3</td>\n",
              "      <td>Joffrey/Tommen Baratheon</td>\n",
              "      <td>Robb Stark</td>\n",
              "      <td>Lannister</td>\n",
              "      <td>NaN</td>\n",
              "      <td>NaN</td>\n",
              "      <td>NaN</td>\n",
              "      <td>Tully</td>\n",
              "      <td>NaN</td>\n",
              "      <td>NaN</td>\n",
              "      <td>NaN</td>\n",
              "      <td>win</td>\n",
              "      <td>pitched battle</td>\n",
              "      <td>0.0</td>\n",
              "      <td>1.0</td>\n",
              "      <td>15000.0</td>\n",
              "      <td>10000.0</td>\n",
              "      <td>Jaime Lannister, Andros Brax</td>\n",
              "      <td>Edmure Tully, Tytos Blackwood</td>\n",
              "      <td>1.0</td>\n",
              "      <td>Riverrun</td>\n",
              "      <td>The Riverlands</td>\n",
              "      <td>NaN</td>\n",
              "    </tr>\n",
              "    <tr>\n",
              "      <th>3</th>\n",
              "      <td>Battle of the Green Fork</td>\n",
              "      <td>298</td>\n",
              "      <td>4</td>\n",
              "      <td>Robb Stark</td>\n",
              "      <td>Joffrey/Tommen Baratheon</td>\n",
              "      <td>Stark</td>\n",
              "      <td>NaN</td>\n",
              "      <td>NaN</td>\n",
              "      <td>NaN</td>\n",
              "      <td>Lannister</td>\n",
              "      <td>NaN</td>\n",
              "      <td>NaN</td>\n",
              "      <td>NaN</td>\n",
              "      <td>loss</td>\n",
              "      <td>pitched battle</td>\n",
              "      <td>1.0</td>\n",
              "      <td>1.0</td>\n",
              "      <td>18000.0</td>\n",
              "      <td>20000.0</td>\n",
              "      <td>Roose Bolton, Wylis Manderly, Medger Cerwyn, H...</td>\n",
              "      <td>Tywin Lannister, Gregor Clegane, Kevan Lannist...</td>\n",
              "      <td>1.0</td>\n",
              "      <td>Green Fork</td>\n",
              "      <td>The Riverlands</td>\n",
              "      <td>NaN</td>\n",
              "    </tr>\n",
              "    <tr>\n",
              "      <th>4</th>\n",
              "      <td>Battle of the Whispering Wood</td>\n",
              "      <td>298</td>\n",
              "      <td>5</td>\n",
              "      <td>Robb Stark</td>\n",
              "      <td>Joffrey/Tommen Baratheon</td>\n",
              "      <td>Stark</td>\n",
              "      <td>Tully</td>\n",
              "      <td>NaN</td>\n",
              "      <td>NaN</td>\n",
              "      <td>Lannister</td>\n",
              "      <td>NaN</td>\n",
              "      <td>NaN</td>\n",
              "      <td>NaN</td>\n",
              "      <td>win</td>\n",
              "      <td>ambush</td>\n",
              "      <td>1.0</td>\n",
              "      <td>1.0</td>\n",
              "      <td>1875.0</td>\n",
              "      <td>6000.0</td>\n",
              "      <td>Robb Stark, Brynden Tully</td>\n",
              "      <td>Jaime Lannister</td>\n",
              "      <td>1.0</td>\n",
              "      <td>Whispering Wood</td>\n",
              "      <td>The Riverlands</td>\n",
              "      <td>NaN</td>\n",
              "    </tr>\n",
              "  </tbody>\n",
              "</table>\n",
              "</div>"
            ],
            "text/plain": [
              "                            name  year  ...           region note\n",
              "0     Battle of the Golden Tooth   298  ...  The Westerlands  NaN\n",
              "1    Battle at the Mummer's Ford   298  ...   The Riverlands  NaN\n",
              "2             Battle of Riverrun   298  ...   The Riverlands  NaN\n",
              "3       Battle of the Green Fork   298  ...   The Riverlands  NaN\n",
              "4  Battle of the Whispering Wood   298  ...   The Riverlands  NaN\n",
              "\n",
              "[5 rows x 25 columns]"
            ]
          },
          "metadata": {
            "tags": []
          },
          "execution_count": 10
        }
      ]
    },
    {
      "cell_type": "code",
      "metadata": {
        "id": "19GHPwXyf0yr",
        "outputId": "b7905041-3b31-4e71-f1c2-1a919b33898a",
        "colab": {
          "base_uri": "https://localhost:8080/",
          "height": 244
        }
      },
      "source": [
        "deaths.head()"
      ],
      "execution_count": 11,
      "outputs": [
        {
          "output_type": "execute_result",
          "data": {
            "text/html": [
              "<div>\n",
              "<style scoped>\n",
              "    .dataframe tbody tr th:only-of-type {\n",
              "        vertical-align: middle;\n",
              "    }\n",
              "\n",
              "    .dataframe tbody tr th {\n",
              "        vertical-align: top;\n",
              "    }\n",
              "\n",
              "    .dataframe thead th {\n",
              "        text-align: right;\n",
              "    }\n",
              "</style>\n",
              "<table border=\"1\" class=\"dataframe\">\n",
              "  <thead>\n",
              "    <tr style=\"text-align: right;\">\n",
              "      <th></th>\n",
              "      <th>Name</th>\n",
              "      <th>Allegiances</th>\n",
              "      <th>Death Year</th>\n",
              "      <th>Book of Death</th>\n",
              "      <th>Death Chapter</th>\n",
              "      <th>Book Intro Chapter</th>\n",
              "      <th>Gender</th>\n",
              "      <th>Nobility</th>\n",
              "      <th>GoT</th>\n",
              "      <th>CoK</th>\n",
              "      <th>SoS</th>\n",
              "      <th>FfC</th>\n",
              "      <th>DwD</th>\n",
              "    </tr>\n",
              "  </thead>\n",
              "  <tbody>\n",
              "    <tr>\n",
              "      <th>0</th>\n",
              "      <td>Addam Marbrand</td>\n",
              "      <td>Lannister</td>\n",
              "      <td>NaN</td>\n",
              "      <td>NaN</td>\n",
              "      <td>NaN</td>\n",
              "      <td>56.0</td>\n",
              "      <td>1</td>\n",
              "      <td>1</td>\n",
              "      <td>1</td>\n",
              "      <td>1</td>\n",
              "      <td>1</td>\n",
              "      <td>1</td>\n",
              "      <td>0</td>\n",
              "    </tr>\n",
              "    <tr>\n",
              "      <th>1</th>\n",
              "      <td>Aegon Frey (Jinglebell)</td>\n",
              "      <td>None</td>\n",
              "      <td>299.0</td>\n",
              "      <td>3.0</td>\n",
              "      <td>51.0</td>\n",
              "      <td>49.0</td>\n",
              "      <td>1</td>\n",
              "      <td>1</td>\n",
              "      <td>0</td>\n",
              "      <td>0</td>\n",
              "      <td>1</td>\n",
              "      <td>0</td>\n",
              "      <td>0</td>\n",
              "    </tr>\n",
              "    <tr>\n",
              "      <th>2</th>\n",
              "      <td>Aegon Targaryen</td>\n",
              "      <td>House Targaryen</td>\n",
              "      <td>NaN</td>\n",
              "      <td>NaN</td>\n",
              "      <td>NaN</td>\n",
              "      <td>5.0</td>\n",
              "      <td>1</td>\n",
              "      <td>1</td>\n",
              "      <td>0</td>\n",
              "      <td>0</td>\n",
              "      <td>0</td>\n",
              "      <td>0</td>\n",
              "      <td>1</td>\n",
              "    </tr>\n",
              "    <tr>\n",
              "      <th>3</th>\n",
              "      <td>Adrack Humble</td>\n",
              "      <td>House Greyjoy</td>\n",
              "      <td>300.0</td>\n",
              "      <td>5.0</td>\n",
              "      <td>20.0</td>\n",
              "      <td>20.0</td>\n",
              "      <td>1</td>\n",
              "      <td>1</td>\n",
              "      <td>0</td>\n",
              "      <td>0</td>\n",
              "      <td>0</td>\n",
              "      <td>0</td>\n",
              "      <td>1</td>\n",
              "    </tr>\n",
              "    <tr>\n",
              "      <th>4</th>\n",
              "      <td>Aemon Costayne</td>\n",
              "      <td>Lannister</td>\n",
              "      <td>NaN</td>\n",
              "      <td>NaN</td>\n",
              "      <td>NaN</td>\n",
              "      <td>NaN</td>\n",
              "      <td>1</td>\n",
              "      <td>1</td>\n",
              "      <td>0</td>\n",
              "      <td>0</td>\n",
              "      <td>1</td>\n",
              "      <td>0</td>\n",
              "      <td>0</td>\n",
              "    </tr>\n",
              "  </tbody>\n",
              "</table>\n",
              "</div>"
            ],
            "text/plain": [
              "                      Name      Allegiances  Death Year  ...  SoS  FfC  DwD\n",
              "0           Addam Marbrand        Lannister         NaN  ...    1    1    0\n",
              "1  Aegon Frey (Jinglebell)             None       299.0  ...    1    0    0\n",
              "2          Aegon Targaryen  House Targaryen         NaN  ...    0    0    1\n",
              "3            Adrack Humble    House Greyjoy       300.0  ...    0    0    1\n",
              "4           Aemon Costayne        Lannister         NaN  ...    1    0    0\n",
              "\n",
              "[5 rows x 13 columns]"
            ]
          },
          "metadata": {
            "tags": []
          },
          "execution_count": 11
        }
      ]
    },
    {
      "cell_type": "code",
      "metadata": {
        "id": "5XGYnEEmdmYf",
        "outputId": "ebcea80a-7f73-4e6a-e757-39854f10d8dd",
        "colab": {
          "base_uri": "https://localhost:8080/"
        }
      },
      "source": [
        "print(battles.columns)\n",
        "print(deaths.columns)"
      ],
      "execution_count": 12,
      "outputs": [
        {
          "output_type": "stream",
          "text": [
            "Index(['name', 'year', 'battle_number', 'attacker_king', 'defender_king',\n",
            "       'attacker_1', 'attacker_2', 'attacker_3', 'attacker_4', 'defender_1',\n",
            "       'defender_2', 'defender_3', 'defender_4', 'attacker_outcome',\n",
            "       'battle_type', 'major_death', 'major_capture', 'attacker_size',\n",
            "       'defender_size', 'attacker_commander', 'defender_commander', 'summer',\n",
            "       'location', 'region', 'note'],\n",
            "      dtype='object')\n",
            "Index(['Name', 'Allegiances', 'Death Year', 'Book of Death', 'Death Chapter',\n",
            "       'Book Intro Chapter', 'Gender', 'Nobility', 'GoT', 'CoK', 'SoS', 'FfC',\n",
            "       'DwD'],\n",
            "      dtype='object')\n"
          ],
          "name": "stdout"
        }
      ]
    },
    {
      "cell_type": "code",
      "metadata": {
        "id": "pmG8IYQVduJI",
        "outputId": "6906a4b9-b650-4af8-fa80-13939067361b",
        "colab": {
          "base_uri": "https://localhost:8080/"
        }
      },
      "source": [
        "print(battles.info())\n",
        "print(deaths.info())"
      ],
      "execution_count": 14,
      "outputs": [
        {
          "output_type": "stream",
          "text": [
            "<class 'pandas.core.frame.DataFrame'>\n",
            "RangeIndex: 38 entries, 0 to 37\n",
            "Data columns (total 25 columns):\n",
            " #   Column              Non-Null Count  Dtype  \n",
            "---  ------              --------------  -----  \n",
            " 0   name                38 non-null     object \n",
            " 1   year                38 non-null     int64  \n",
            " 2   battle_number       38 non-null     int64  \n",
            " 3   attacker_king       36 non-null     object \n",
            " 4   defender_king       35 non-null     object \n",
            " 5   attacker_1          38 non-null     object \n",
            " 6   attacker_2          10 non-null     object \n",
            " 7   attacker_3          3 non-null      object \n",
            " 8   attacker_4          2 non-null      object \n",
            " 9   defender_1          37 non-null     object \n",
            " 10  defender_2          2 non-null      object \n",
            " 11  defender_3          0 non-null      float64\n",
            " 12  defender_4          0 non-null      float64\n",
            " 13  attacker_outcome    37 non-null     object \n",
            " 14  battle_type         37 non-null     object \n",
            " 15  major_death         37 non-null     float64\n",
            " 16  major_capture       37 non-null     float64\n",
            " 17  attacker_size       24 non-null     float64\n",
            " 18  defender_size       19 non-null     float64\n",
            " 19  attacker_commander  37 non-null     object \n",
            " 20  defender_commander  28 non-null     object \n",
            " 21  summer              37 non-null     float64\n",
            " 22  location            37 non-null     object \n",
            " 23  region              38 non-null     object \n",
            " 24  note                5 non-null      object \n",
            "dtypes: float64(7), int64(2), object(16)\n",
            "memory usage: 7.5+ KB\n",
            "None\n",
            "<class 'pandas.core.frame.DataFrame'>\n",
            "RangeIndex: 917 entries, 0 to 916\n",
            "Data columns (total 13 columns):\n",
            " #   Column              Non-Null Count  Dtype  \n",
            "---  ------              --------------  -----  \n",
            " 0   Name                917 non-null    object \n",
            " 1   Allegiances         917 non-null    object \n",
            " 2   Death Year          305 non-null    float64\n",
            " 3   Book of Death       307 non-null    float64\n",
            " 4   Death Chapter       299 non-null    float64\n",
            " 5   Book Intro Chapter  905 non-null    float64\n",
            " 6   Gender              917 non-null    int64  \n",
            " 7   Nobility            917 non-null    int64  \n",
            " 8   GoT                 917 non-null    int64  \n",
            " 9   CoK                 917 non-null    int64  \n",
            " 10  SoS                 917 non-null    int64  \n",
            " 11  FfC                 917 non-null    int64  \n",
            " 12  DwD                 917 non-null    int64  \n",
            "dtypes: float64(4), int64(7), object(2)\n",
            "memory usage: 93.3+ KB\n",
            "None\n"
          ],
          "name": "stdout"
        }
      ]
    },
    {
      "cell_type": "markdown",
      "metadata": {
        "id": "3oQfg6jChNJA"
      },
      "source": [
        "There are no more than two defenders in any battle, so these columns can be removed"
      ]
    },
    {
      "cell_type": "code",
      "metadata": {
        "id": "_CRoVYk5dw86"
      },
      "source": [
        "battles= battles.drop(['defender_3','defender_4'], axis=1) "
      ],
      "execution_count": 17,
      "outputs": []
    },
    {
      "cell_type": "markdown",
      "metadata": {
        "id": "lN-Dtpvdujyu"
      },
      "source": [
        "Was there a higher death toll in years that more battles were fought?"
      ]
    },
    {
      "cell_type": "code",
      "metadata": {
        "id": "_xjrp9yjdzuD",
        "outputId": "750cfa06-1d0e-47a3-8c97-22951a554368",
        "colab": {
          "base_uri": "https://localhost:8080/",
          "height": 386
        }
      },
      "source": [
        "plt.subplot(2,1,1)\n",
        "sns.countplot(battles['year'],palette='Blues')\n",
        "plt.title('Battles per year')\n",
        "\n",
        "plt.subplot(2,1,2)\n",
        "sns.countplot(deaths['Death Year'], palette ='rocket')\n",
        "plt.title('Death per year')\n",
        "plt.show()\n"
      ],
      "execution_count": 41,
      "outputs": [
        {
          "output_type": "stream",
          "text": [
            "/usr/local/lib/python3.6/dist-packages/seaborn/_decorators.py:43: FutureWarning: Pass the following variable as a keyword arg: x. From version 0.12, the only valid positional argument will be `data`, and passing other arguments without an explicit keyword will result in an error or misinterpretation.\n",
            "  FutureWarning\n",
            "/usr/local/lib/python3.6/dist-packages/seaborn/_decorators.py:43: FutureWarning: Pass the following variable as a keyword arg: x. From version 0.12, the only valid positional argument will be `data`, and passing other arguments without an explicit keyword will result in an error or misinterpretation.\n",
            "  FutureWarning\n"
          ],
          "name": "stderr"
        },
        {
          "output_type": "display_data",
          "data": {
            "image/png": "[encoded data removed]",
            "text/plain": [
              "<Figure size 432x288 with 2 Axes>"
            ]
          },
          "metadata": {
            "tags": [],
            "needs_background": "light"
          }
        }
      ]
    },
    {
      "cell_type": "markdown",
      "metadata": {
        "id": "4Kstce8k2NJr"
      },
      "source": [
        "Battles per region"
      ]
    },
    {
      "cell_type": "code",
      "metadata": {
        "id": "moqP9Zqgs0qN",
        "outputId": "935e4565-ac77-4250-d951-923b017812f0",
        "colab": {
          "base_uri": "https://localhost:8080/",
          "height": 356
        }
      },
      "source": [
        "battles[\"region\"].value_counts().plot(kind = 'bar')"
      ],
      "execution_count": 45,
      "outputs": [
        {
          "output_type": "execute_result",
          "data": {
            "text/plain": [
              "<matplotlib.axes._subplots.AxesSubplot at 0x7f5472ab4780>"
            ]
          },
          "metadata": {
            "tags": []
          },
          "execution_count": 45
        },
        {
          "output_type": "display_data",
          "data": {
            "image/png": "[encoded data removed]",
            "text/plain": [
              "<Figure size 432x288 with 1 Axes>"
            ]
          },
          "metadata": {
            "tags": [],
            "needs_background": "light"
          }
        }
      ]
    },
    {
      "cell_type": "markdown",
      "metadata": {
        "id": "owY-xLaT3We5"
      },
      "source": [
        "Most popular type of battle for attack per king"
      ]
    },
    {
      "cell_type": "code",
      "metadata": {
        "id": "ctH-2n4guPbi",
        "outputId": "37c5e19e-9071-438f-81df-a4d2dc2f4bb4",
        "colab": {
          "base_uri": "https://localhost:8080/",
          "height": 419
        }
      },
      "source": [
        "sns.countplot(hue= battles['battle_type'],x=battles['attacker_king'],palette = 'deep')\n",
        "plt.title('Battle type per king ')\n",
        "plt.legend(loc = 'upper right')\n",
        "plt.xticks(rotation = 90)\n",
        "plt.show()"
      ],
      "execution_count": 75,
      "outputs": [
        {
          "output_type": "display_data",
          "data": {
            "image/png": "[encoded data removed]",
            "text/plain": [
              "<Figure size 432x288 with 1 Axes>"
            ]
          },
          "metadata": {
            "tags": [],
            "needs_background": "light"
          }
        }
      ]
    },
    {
      "cell_type": "markdown",
      "metadata": {
        "id": "rPVQmxy1_5uf"
      },
      "source": [
        "Which allegiances had most deaths?"
      ]
    },
    {
      "cell_type": "code",
      "metadata": {
        "id": "1GCG68CA3m3H",
        "outputId": "55631813-4f0a-4bd8-ff65-681d1b24cc82",
        "colab": {
          "base_uri": "https://localhost:8080/"
        }
      },
      "source": [
        "deaths['Allegiances'].value_counts()"
      ],
      "execution_count": 76,
      "outputs": [
        {
          "output_type": "execute_result",
          "data": {
            "text/plain": [
              "None               253\n",
              "Night's Watch      116\n",
              "Lannister           81\n",
              "Stark               73\n",
              "Baratheon           56\n",
              "Greyjoy             51\n",
              "Wildling            40\n",
              "House Stark         35\n",
              "Martell             25\n",
              "House Greyjoy       24\n",
              "Arryn               23\n",
              "Tully               22\n",
              "House Lannister     21\n",
              "House Targaryen     19\n",
              "Targaryen           17\n",
              "Tyrell              15\n",
              "House Martell       12\n",
              "House Tyrell        11\n",
              "House Baratheon      8\n",
              "House Tully          8\n",
              "House Arryn          7\n",
              "Name: Allegiances, dtype: int64"
            ]
          },
          "metadata": {
            "tags": []
          },
          "execution_count": 76
        }
      ]
    },
    {
      "cell_type": "code",
      "metadata": {
        "id": "jJvgc9cX8OL8"
      },
      "source": [
        "deaths['Allegiances'] = np.where(deaths['Allegiances'].isin(['Stark']), 'House Stark', deaths['Allegiances'])\n",
        "deaths['Allegiances'] = np.where(deaths['Allegiances'].isin(['Lannister']), 'House Lannister', deaths['Allegiances'])\n",
        "deaths['Allegiances'] = np.where(deaths['Allegiances'].isin(['Tyrell']), 'House Tyrell', deaths['Allegiances'])\n",
        "deaths['Allegiances'] = np.where(deaths['Allegiances'].isin(['Targaryen']), 'House Tyrell', deaths['Allegiances'])\n",
        "deaths['Allegiances'] = np.where(deaths['Allegiances'].isin(['Baratheon']), 'House Baratheon', deaths['Allegiances'])\n",
        "deaths['Allegiances'] = np.where(deaths['Allegiances'].isin(['Greyjoy']), 'House Greyjoy', deaths['Allegiances'])\n",
        "deaths['Allegiances'] = np.where(deaths['Allegiances'].isin(['Tully']), 'House Tully', deaths['Allegiances'])\n",
        "deaths['Allegiances'] = np.where(deaths['Allegiances'].isin(['Arryn']), 'House Arryn', deaths['Allegiances'])"
      ],
      "execution_count": 88,
      "outputs": []
    },
    {
      "cell_type": "code",
      "metadata": {
        "id": "FRtgvTrc8vF6",
        "outputId": "c9d67edf-7f59-497d-8438-8dfc1187c9b3",
        "colab": {
          "base_uri": "https://localhost:8080/"
        }
      },
      "source": [
        "deaths['Allegiances'].value_counts()"
      ],
      "execution_count": 91,
      "outputs": [
        {
          "output_type": "execute_result",
          "data": {
            "text/plain": [
              "None               253\n",
              "Night's Watch      116\n",
              "House Stark        108\n",
              "House Lannister    102\n",
              "House Greyjoy       75\n",
              "House Baratheon     64\n",
              "House Tyrell        43\n",
              "Wildling            40\n",
              "House Arryn         30\n",
              "House Tully         30\n",
              "Martell             25\n",
              "House Targaryen     19\n",
              "House Martell       12\n",
              "Name: Allegiances, dtype: int64"
            ]
          },
          "metadata": {
            "tags": []
          },
          "execution_count": 91
        }
      ]
    },
    {
      "cell_type": "code",
      "metadata": {
        "id": "_4mcc2s6_9_F",
        "outputId": "51ca4715-ad39-440f-ecfd-6366323b96a1",
        "colab": {
          "base_uri": "https://localhost:8080/",
          "height": 428
        }
      },
      "source": [
        "sns.countplot(deaths['Allegiances'],palette='deep')\n",
        "plt.xticks(Rotation = 90)\n",
        "plt.title('Allegiance/Deaths')\n",
        "plt.show()"
      ],
      "execution_count": 92,
      "outputs": [
        {
          "output_type": "stream",
          "text": [
            "/usr/local/lib/python3.6/dist-packages/seaborn/_decorators.py:43: FutureWarning: Pass the following variable as a keyword arg: x. From version 0.12, the only valid positional argument will be `data`, and passing other arguments without an explicit keyword will result in an error or misinterpretation.\n",
            "  FutureWarning\n"
          ],
          "name": "stderr"
        },
        {
          "output_type": "display_data",
          "data": {
            "image/png": "[encoded data removed]",
            "text/plain": [
              "<Figure size 432x288 with 1 Axes>"
            ]
          },
          "metadata": {
            "tags": [],
            "needs_background": "light"
          }
        }
      ]
    },
    {
      "cell_type": "markdown",
      "metadata": {
        "id": "MI7NXP0MAOLd"
      },
      "source": [
        "Allegiances deaths vs. deaths outside allegiances"
      ]
    },
    {
      "cell_type": "code",
      "metadata": {
        "id": "D0JFZn1jAPGg",
        "outputId": "912d5787-abd6-480c-c1a5-723a5be32081",
        "colab": {
          "base_uri": "https://localhost:8080/"
        }
      },
      "source": [
        "deaths.loc[deaths['Allegiances']=='None'].shape[0]"
      ],
      "execution_count": 93,
      "outputs": [
        {
          "output_type": "execute_result",
          "data": {
            "text/plain": [
              "253"
            ]
          },
          "metadata": {
            "tags": []
          },
          "execution_count": 93
        }
      ]
    },
    {
      "cell_type": "code",
      "metadata": {
        "id": "poKQUh3zAYiV",
        "outputId": "f5e3b984-1cbc-4731-c9eb-065cc4d22fb9",
        "colab": {
          "base_uri": "https://localhost:8080/"
        }
      },
      "source": [
        "deaths.loc[deaths['Allegiances']!='None'].shape[0]"
      ],
      "execution_count": 94,
      "outputs": [
        {
          "output_type": "execute_result",
          "data": {
            "text/plain": [
              "664"
            ]
          },
          "metadata": {
            "tags": []
          },
          "execution_count": 94
        }
      ]
    },
    {
      "cell_type": "markdown",
      "metadata": {
        "id": "XpxYNWeEQz2e"
      },
      "source": [
        "Attacks and battles data"
      ]
    },
    {
      "cell_type": "code",
      "metadata": {
        "id": "ioT_05nvOuoi",
        "outputId": "940e7a64-9a30-41c4-ae8d-5ba2f7cddbae",
        "colab": {
          "base_uri": "https://localhost:8080/"
        }
      },
      "source": [
        "attackers= battles.groupby([data.year,data.attacker_1])\n",
        "attackers.size()"
      ],
      "execution_count": 99,
      "outputs": [
        {
          "output_type": "execute_result",
          "data": {
            "text/plain": [
              "year  attacker_1                 \n",
              "298   Lannister                      4\n",
              "      Stark                          3\n",
              "299   Baratheon                      2\n",
              "      Bolton                         1\n",
              "      Brotherhood without Banners    1\n",
              "      Darry                          1\n",
              "      Frey                           2\n",
              "      Greyjoy                        5\n",
              "      Lannister                      3\n",
              "      Stark                          5\n",
              "300   Baratheon                      4\n",
              "      Bolton                         1\n",
              "      Bracken                        1\n",
              "      Brave Companions               1\n",
              "      Free folk                      1\n",
              "      Greyjoy                        2\n",
              "      Lannister                      1\n",
              "dtype: int64"
            ]
          },
          "metadata": {
            "tags": []
          },
          "execution_count": 99
        }
      ]
    },
    {
      "cell_type": "code",
      "metadata": {
        "id": "CPQcJp0JQVpw",
        "outputId": "3c5ac82a-ff3d-4eba-e62a-0ba619a3381d",
        "colab": {
          "base_uri": "https://localhost:8080/",
          "height": 442
        }
      },
      "source": [
        "plt.figure(figsize=(20,7))\n",
        "sns.swarmplot(y=battles.year,hue = battles.attacker_outcome,x=battles.attacker_1)\n",
        "plt.xlabel(\"Attacker\")\n",
        "plt.ylabel(\"Year\")\n",
        "plt.show()"
      ],
      "execution_count": 102,
      "outputs": [
        {
          "output_type": "display_data",
          "data": {
            "image/png": "[encoded data removed]",
            "text/plain": [
              "<Figure size 1440x504 with 1 Axes>"
            ]
          },
          "metadata": {
            "tags": [],
            "needs_background": "light"
          }
        }
      ]
    },
    {
      "cell_type": "code",
      "metadata": {
        "id": "qDAY8qH0RAgf",
        "outputId": "f4fabbfb-b2ee-4aef-a552-8c3bce323cca",
        "colab": {
          "base_uri": "https://localhost:8080/",
          "height": 442
        }
      },
      "source": [
        "plt.figure(figsize=(20,7))\n",
        "sns.swarmplot(y=data.year,hue = data.attacker_outcome,x=data.defender_1)\n",
        "plt.xlabel(\"Defender\")\n",
        "plt.ylabel(\"Year\")\n",
        "plt.show()"
      ],
      "execution_count": 103,
      "outputs": [
        {
          "output_type": "display_data",
          "data": {
            "image/png": "[encoded data removed]",
            "text/plain": [
              "<Figure size 1440x504 with 1 Axes>"
            ]
          },
          "metadata": {
            "tags": [],
            "needs_background": "light"
          }
        }
      ]
    },
    {
      "cell_type": "code",
      "metadata": {
        "id": "Tyxp6t1qRchd"
      },
      "source": [
        ""
      ],
      "execution_count": null,
      "outputs": []
    }
  ]
}